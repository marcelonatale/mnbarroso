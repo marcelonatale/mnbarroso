{
 "cells": [
  {
   "cell_type": "markdown",
   "metadata": {},
   "source": [
    "<img src=\"https://images.efollett.com/htmlroot/images/templates/storeLogos/CA/864.gif\" style=\"float: right;\"> \n",
    "\n",
    "\n",
    "\n",
    "\n",
    "# ECON611\n",
    "### HW_4 -  SQL\n",
    "#### Due: Nov 18\n",
    "\n",
    "We will be using the sample databases that come from the DBeaver program (use the Database Installation guide to assist you on installing it). We will be using the sample tables that are provided there. Save your work as a SQL script with answers to specific questions commented out properly labled."
   ]
  },
  {
   "cell_type": "markdown",
   "metadata": {},
   "source": [
    "## 1. Music and Album Data\n",
    "---\n",
    "We will be using the following tables from DBeaver:\n",
    "• Album • Artist • Genre • Track • PlaylistTrack • MediaType"
   ]
  },
  {
   "cell_type": "markdown",
   "metadata": {},
   "source": [
    "## Problems (40 points)\n",
    "---"
   ]
  },
  {
   "cell_type": "markdown",
   "metadata": {},
   "source": [
    "#### A. (5 points). Output a table that has the columns Album Title, Artist, Track Name, Genre, Composer, Length of Song (minutes) \n",
    "---"
   ]
  },
  {
   "cell_type": "code",
   "execution_count": null,
   "metadata": {
    "collapsed": true
   },
   "outputs": [],
   "source": [
    "Select trackid,\n",
    "\t   track.name as Track,\n",
    "\t   artist.name as Artist,\n",
    "\t   album.title as Title,\n",
    "\t   genre.name as Genre,\n",
    "\t   track.composer as Composer,\n",
    "\t   round(track.Milliseconds*1.0/60000,2) As 'Lenght of track'\n",
    "FROM track\n",
    "\t   inner join artist on Artist.ArtistId = album.artistid\n",
    "\t   inner join album on album.albumid = track.albumid\n",
    "\t   inner join genre on genre.genreid = track.genreid;\n",
    "    \n",
    "    \n",
    "    #COMPLETE"
   ]
  },
  {
   "cell_type": "markdown",
   "metadata": {},
   "source": [
    "#### B. (5 points). Output a frequency table for how many letters are in an album title and a song title. (i.e. 3 columns: number of letters, number of album titles with that amount of letters, number of song titles with that amount of letters). What is the average and range of amount of letters?\n",
    "---"
   ]
  },
  {
   "cell_type": "code",
   "execution_count": null,
   "metadata": {
    "collapsed": true
   },
   "outputs": [],
   "source": [
    "Select trackid,\n",
    "\t   t.name as Track,LENGTH(T.name) as Letters_track_name,\n",
    "\t   album.title as Title,LENGTH(album.title) as Letters_album_title,\n",
    "\t   count(*) as Frequency\n",
    "FROM track as t\n",
    "\t   inner join album on album.albumid = t.albumid\n",
    "\t   Group by letters_track_name\n",
    "\t   order by letters_track_name;\n",
    "    \n",
    "        Select trackid,\n",
    "\t   t.name as Track,LENGTH(T.name) as Letters_track_name,\n",
    "\t   album.title as Title,LENGTH(album.title) as Letters_album_title,\n",
    "\t   max(LENGTH(T.name)) - min(LENGTH(T.name)) as Rangez,\n",
    "\t   avg(LENGTH(T.name)) as Average\n",
    "FROM track as t\n",
    "\t   inner join album on album.albumid = t.albumid\n",
    "\t   order by letters_track_name;\n",
    "    \n",
    "    Select trackid,\n",
    "\t   t.name as Track,LENGTH(T.name) as Letters_track_name,\n",
    "\t   album.title as Title,LENGTH(album.title) as Letters_album_title,\n",
    "\t   count(*) as Frequency\n",
    "FROM track as t\n",
    "\t   inner join album on album.albumid = t.albumid\n",
    "\t   Group by letters_album_title\n",
    "\t   order by letters_album_title;\n",
    "    \n",
    "        Select trackid,\n",
    "\t   t.name as Track,LENGTH(T.name) as Letters_track_name,\n",
    "\t   album.title as Title,LENGTH(album.title) as Letters_album_title,\n",
    "\t   max(LENGTH(album.title)) - min(LENGTH(album.title)) as Rangez,\n",
    "\t   avg(LENGTH(album.title)) as Average\n",
    "FROM track as t\n",
    "\t   inner join album on album.albumid = t.albumid\n",
    "\t   order by letters_album_title;\n",
    "\n",
    "    \n",
    "    \n",
    "    \n",
    "    #COMPLETE"
   ]
  },
  {
   "cell_type": "markdown",
   "metadata": {},
   "source": [
    "#### C. (10 points). How many songs did each composer write? How many artists composed their own music? Output all of the Artists who had songs that were longer than 2.5 minutes and they did not write their own songs.\n",
    "---"
   ]
  },
  {
   "cell_type": "code",
   "execution_count": null,
   "metadata": {
    "collapsed": true
   },
   "outputs": [],
   "source": [
    "SELECT COUNT(NAME) SONG,COMPOSER\n",
    "FROM TRACK\n",
    "GROUP BY COMPOSER;\n",
    "\n",
    "SELECT COUNT(TRACK.NAME) SONG, COMPOSER\n",
    "FROM TRACK\n",
    "JOIN ARTIST\n",
    "ON ALBUM.ARTISTID = ARTIST.ARTISTID\n",
    "JOIN ALBUM\n",
    "ON TRACK.ALBUMID = ALBUM.ALBUMID\n",
    "GROUP BY COMPOSER;\n",
    "\n",
    "\n",
    "Select trackid,\n",
    "\t   track.name as Track,\n",
    "\t   artist.name as Artist,\n",
    "\t   album.title as Title,\n",
    "\t   genre.name as Genre,\n",
    "\t   track.composer as Composer,\n",
    "\t   track.Milliseconds*1.0/60000 As Length_of_track,\n",
    "(Case when artist.name = track.composer then '1' else '0' end) as Artist_composer,\n",
    "(case when track.Milliseconds*1.0/60000 > 2.50000 and artist.name != track.composer  then 'yes' else 'no' end) as More_than_2\n",
    "FROM track\n",
    "\t   inner join artist on Artist.ArtistId = album.artistid\n",
    "\t   inner join album on album.albumid = track.albumid\n",
    "\t   inner join genre on genre.genreid = track.genreid;\n",
    "    \n",
    "    \n",
    "    #COMPLETE"
   ]
  },
  {
   "cell_type": "markdown",
   "metadata": {},
   "source": [
    "#### D. (10 points). How many albums contain songs that only have an even number of seconds in the length of the song and the songs are all MPEG audio files?\n",
    "---"
   ]
  },
  {
   "cell_type": "code",
   "execution_count": null,
   "metadata": {
    "collapsed": true
   },
   "outputs": [],
   "source": [
    "Select trackid,\n",
    "\t   track.name as Track,\n",
    "\t   track.MediaTypeId as Media,\n",
    "\t   artist.name as Artist,\n",
    "\t   album.title as Title,\n",
    "\t   genre.name as Genre,\n",
    "\t   track.composer as Composer,\n",
    "\t   round(track.Milliseconds*1.0/60000, 2) As 'Lenght of track',\n",
    "(case when round(track.Milliseconds*1.0/60000, 2)%2!=0 and MediaTypeId = 1 then 1 else 0 end) as Constrain,\n",
    "count(*) as RESULTZ\n",
    "FROM track\n",
    "\t   inner join artist on Artist.ArtistId = album.artistid\n",
    "\t   inner join album on album.albumid = track.albumid\n",
    "\t   inner join genre on genre.genreid = track.genreid\n",
    "\t   group by Constrain;\n",
    "        \n",
    "        #COMPLETE"
   ]
  },
  {
   "cell_type": "markdown",
   "metadata": {},
   "source": [
    "#### E. (10 points). How large, in terms of Megabytes are each album? On average, how large, in terms of bytes, is a pop song? What is the range and average duration of a heavy metal song in minutes?\n",
    "---"
   ]
  },
  {
   "cell_type": "code",
   "execution_count": null,
   "metadata": {
    "collapsed": true
   },
   "outputs": [],
   "source": [
    "Select trackid,\n",
    "\t   album.albumid as AlbumID,\n",
    "\t   artist.name as Artist,\n",
    "\t   round(track.Bytes*1.0/1000000,4) as Megabytes,\n",
    "\t   album.title as Title,\n",
    "\t   sum(round(track.Bytes*1.0/1000000,4)) as Megabytes_album\n",
    "FROM track\n",
    "\t   inner join artist on Artist.ArtistId = album.artistid\n",
    "\t   inner join album on album.albumid = track.albumid\n",
    "\t   group by album.albumid;\n",
    "    \n",
    "    Select trackid,\n",
    "\t   album.albumid as AlbumID,\n",
    "\t   artist.name as Artist,\n",
    "\t   track.Bytes as Bytes,\n",
    "\t   album.title as Title,\n",
    "\t   genre.genreId as GenreId,\n",
    "\t   genre.name as Genre,\n",
    "\t   avg(track.bytes) as Average_bytes\n",
    "FROM track\n",
    "\t   inner join artist on Artist.ArtistId = album.artistid\n",
    "\t   inner join album on album.albumid = track.albumid\n",
    "\t   inner join genre on genre.GenreId = track.GenreId\n",
    "\t   where genre.genreid = 9;\n",
    "        \n",
    "    Select trackid,\n",
    "\t   album.albumid as AlbumID,\n",
    "\t   artist.name as Artist,\n",
    "\t   round(track.Milliseconds*1.0/60000, 2) As 'Lenght of track',\n",
    "\t   album.title as Title,\n",
    "\t   genre.genreId as GenreId,\n",
    "\t   genre.name as Genre,\n",
    "\t   max(round(track.Milliseconds*1.0/60000, 2)) - min(round(track.Milliseconds*1.0/60000, 2)) as Rangez,\n",
    "\t   avg(round(track.Milliseconds*1.0/60000, 2)) as Average_duration\n",
    "FROM track\n",
    "\t   inner join artist on Artist.ArtistId = album.artistid\n",
    "\t   inner join album on album.albumid = track.albumid\n",
    "\t   inner join genre on genre.GenreId = track.GenreId\n",
    "\t   where genre.genreid = 13;\n",
    "    \n",
    "    \n",
    "    #COMPLETE"
   ]
  },
  {
   "cell_type": "markdown",
   "metadata": {},
   "source": [
    "## 2. Customer Data\n",
    "---\n",
    "We will be using the following tables from DBeaver:\n",
    "• Customer • Invoice • InvoiceLine • Album • Artist • Genre • Track • PlaylistTrack • MediaType"
   ]
  },
  {
   "cell_type": "markdown",
   "metadata": {},
   "source": [
    "## Problems (40 points)\n",
    "---"
   ]
  },
  {
   "cell_type": "markdown",
   "metadata": {},
   "source": [
    "#### A. (5 points). Output a table that shows the number of customers in each city, and also have shows the state and country that the city is located in.\n",
    "---"
   ]
  },
  {
   "cell_type": "code",
   "execution_count": null,
   "metadata": {
    "collapsed": true
   },
   "outputs": [],
   "source": [
    "Select city,\n",
    "\t   state,\n",
    "\t   country,\n",
    "\t   count(*) as customer_by_city\n",
    "from Customer\n",
    "group by city;\n",
    "\n",
    "#COMPLETE"
   ]
  },
  {
   "cell_type": "markdown",
   "metadata": {},
   "source": [
    "#### B. (10 points). How much in total was spent on music per year? What is the average amount a person spent on music in a year? What is the average amount a person with a gmail account spent on music in a year?\n",
    "---"
   ]
  },
  {
   "cell_type": "code",
   "execution_count": null,
   "metadata": {
    "collapsed": true
   },
   "outputs": [],
   "source": [
    "SELECT invoiceid as InvoiceID,\n",
    "\t   customer.CustomerID as CustomerID,\n",
    "\t   STRFTIME('%Y', INVOICEDATE) AS DATEZ,\n",
    "\t   customer.email as Email,\n",
    "\t   total as Total,\n",
    "\t   sum(total)\n",
    "from Invoice\n",
    "\tinner join customer on customer.CustomerId = invoice.CustomerId\n",
    "\tgroup by datez;\n",
    "    \n",
    "    SELECT invoiceid as InvoiceID,\n",
    "\t   customer.CustomerID as CustomerID,\n",
    "\t   STRFTIME('%Y', INVOICEDATE) AS DATEZ,\n",
    "\t   customer.email as Email,\n",
    "\t   sum(total) as Total,\n",
    "\t   count(distinct STRFTIME('%Y', INVOICEDATE)) as years,\n",
    "\t   sum(total)/count(distinct STRFTIME('%Y', INVOICEDATE)) as AVG_years\n",
    "from Invoice\n",
    "\tinner join customer on customer.CustomerId = invoice.CustomerId\n",
    "\tgroup by customer.customerid\n",
    "\torder by datez;\n",
    "    \n",
    "        SELECT invoiceid as InvoiceID,\n",
    "\t   customer.CustomerID as CustomerID,\n",
    "\t   STRFTIME('%Y', INVOICEDATE) AS DATEZ,\n",
    "\t   customer.email as Email,\n",
    "\t   sum(total) as Total,\n",
    "\t   count(distinct STRFTIME('%Y', INVOICEDATE)) as years,\n",
    "\t   sum(total)/count(distinct STRFTIME('%Y', INVOICEDATE)) as AVG_years\n",
    "from Invoice\n",
    "\tinner join customer on customer.CustomerId = invoice.CustomerId\n",
    "\twhere \"email\" LIKE '%@gmail.com'\n",
    "\tgroup by customer.customerid\n",
    "\torder by datez;\n",
    "    \n",
    "    #COMPLETE"
   ]
  },
  {
   "cell_type": "markdown",
   "metadata": {},
   "source": [
    "#### C. (10 points). What year-month combination had the most spending on music? Which year-month combi- nation had the most money spent on pop music?\n",
    "---"
   ]
  },
  {
   "cell_type": "code",
   "execution_count": null,
   "metadata": {
    "collapsed": true
   },
   "outputs": [],
   "source": [
    "SELECT STRFTIME('%Y %m', INVOICEDATE) AS DATEZ,\n",
    "\t   total as Total,\n",
    "\t   max(total) as MSUMM,\n",
    "\t   (select sum(TOTAL) as sumi from invoice group by total) as YM_MAX\n",
    "from invoice\n",
    "group by YM_MAX;\n",
    "\n",
    "SELECT STRFTIME('%Y %m', INVOICEDATE) AS DATEZ,\n",
    "\t   total as Total,\n",
    "\t   max(total) as MaxPopMusic,\n",
    "\t   (select sum(TOTAL) as sumi from invoice group by total) as YM_MAX,\n",
    "\t   (select genre.genreid as Genre from genre where GenreID = 9) as GenreID,\n",
    "\t   (select genre.name as GenreName from Genre where genreID = 9) as GenreName\n",
    "from invoice\n",
    "group by YM_MAX\n",
    "having genreid = 9;\n",
    "\n",
    "#complete"
   ]
  },
  {
   "cell_type": "markdown",
   "metadata": {},
   "source": [
    "#### D. (10 points). What genre has the most songs bought that are in the pop genre? What is the total money spent on these songs? Which customer is spending the most on pop songs?\n",
    "---"
   ]
  },
  {
   "cell_type": "code",
   "execution_count": null,
   "metadata": {
    "collapsed": true
   },
   "outputs": [],
   "source": [
    "    Select trackid,\n",
    "\t   artist.name as Artist,\n",
    "\t   genre.genreId as GenreId,\n",
    "\t   genre.name as Genre,\n",
    "\t   count(*) as MaxSongs\n",
    "FROM track\n",
    "\t   join artist on Artist.ArtistId = album.artistid\n",
    "\t   join album on album.albumid = track.albumid\n",
    "\t   join genre on genre.GenreId = track.GenreId\n",
    "\t   where track.genreid = 9\n",
    "\t   group by artist\n",
    "\t   order by maxsongs desc;\n",
    "        \n",
    "    Select\n",
    "\t   artist.name as Artist,\n",
    "\t   genre.genreId as GenreId,\n",
    "\t   genre.name as Genre,\n",
    "\t   sum(invoiceline.Quantity*invoiceline.UnitPrice) as TotalSpent,\n",
    "\t   count(*) as MaxSongs\n",
    "FROM track\n",
    "\t   join artist on Artist.ArtistId = album.artistid\n",
    "\t   join album on album.albumid = track.albumid\n",
    "\t   join genre on genre.GenreId = track.GenreId\n",
    "\t   join InvoiceLine on invoiceline.trackID = track.trackID\n",
    "\t   where track.genreid = 9\n",
    "\t   group by artist\n",
    "\t   order by maxsongs desc;\n",
    "    \n",
    "    Select\n",
    "\t   genre.genreId as GenreId,\n",
    "\t   genre.name as Genre,\n",
    "\t   invoice.customerid as CustomerID,\n",
    "\t   sum(invoice.total) as TotalSpent\n",
    "FROM track\n",
    "\t   join artist on Artist.ArtistId = album.artistid\n",
    "\t   join album on album.albumid = track.albumid\n",
    "\t   join genre on genre.GenreId = track.GenreId\n",
    "\t   join InvoiceLine on invoiceline.trackID = track.trackID\n",
    "\t   join Invoice on invoice.invoiceid = invoiceline.invoiceid\n",
    "\t   where track.genreid = 9\n",
    "\t   group by customerid\t   \n",
    "\t   order by totalspent desc;\n",
    " \n",
    "       #complete"
   ]
  },
  {
   "cell_type": "markdown",
   "metadata": {},
   "source": [
    "#### E. (10 points). Output how many songs each artist is selling in each country? Who is selling the post outside of the US? On average, how many songs is each artist selling outside of the US?\n",
    "---"
   ]
  },
  {
   "cell_type": "code",
   "execution_count": null,
   "metadata": {
    "collapsed": true
   },
   "outputs": [],
   "source": [
    "    Select\n",
    "\t   invoice.customerid as CustomerID,\n",
    "\t   artist.name as ArtistName,\n",
    "\t   Invoice.BillingCountry as Country,\n",
    "\t   artist.artistid as ArtistID,\n",
    "\t   track.trackid as TrackID,\n",
    "\t   invoiceline.quantity as Quantity\n",
    "FROM track\n",
    "\t   join artist on Artist.ArtistId = album.artistid\n",
    "\t   join album on album.albumid = track.albumid\n",
    "\t   join InvoiceLine on invoiceline.trackID = track.trackID\n",
    "\t   join Invoice on invoice.invoiceid = invoiceline.invoiceid;\n",
    "        \n",
    "    Select\n",
    "\t   invoice.customerid as CustomerID,\n",
    "\t   artist.name as ArtistName,\n",
    "\t   Invoice.BillingCountry as Country,\n",
    "\t   artist.artistid as ArtistID,\n",
    "\t   track.trackid as TrackID,\n",
    "\t   invoiceline.quantity as Quantity,\n",
    "\t   count(quantity) as Countz\n",
    "FROM track\n",
    "\t   join artist on Artist.ArtistId = album.artistid\n",
    "\t   join album on album.albumid = track.albumid\n",
    "\t   join InvoiceLine on invoiceline.trackID = track.trackID\n",
    "\t   join Invoice on invoice.invoiceid = invoiceline.invoiceid\n",
    "\t   where country is not 'USA'\n",
    "\t   group by artistname\n",
    "\t   order by Countz desc;\n",
    "    \n",
    "    \n",
    "SELECT SUM(InvoiceLine.Quantity)*1.0 / COUNT(DISTINCT(Artist.Name)) as Average_songs_sold\n",
    "        FROM Customer\n",
    "            JOIN Invoice\n",
    "                ON Customer.CustomerId = Invoice.CustomerId\n",
    "            JOIN InvoiceLine\n",
    "                ON Invoice.InvoiceId = InvoiceLine.InvoiceId\n",
    "            JOIN Track\n",
    "                ON InvoiceLine.TrackId = Track.TrackId\n",
    "            JOIN Album\n",
    "                ON Track.AlbumId = Album.AlbumId\n",
    "            JOIN Artist\n",
    "                ON Album.ArtistId = Artist.ArtistId\n",
    "        WHERE Invoice.BillingCountry is not 'USA';\n",
    "        \n",
    "        #Complete"
   ]
  },
  {
   "cell_type": "markdown",
   "metadata": {},
   "source": [
    "## 3. Window Functions (20 points)\n",
    "---"
   ]
  },
  {
   "cell_type": "markdown",
   "metadata": {},
   "source": [
    "#### A. (10 points). Return a list of Customers that assigns a sequential integer to each customer and resets the number when the country of the customer changes for Customers are not from Canada and Brazil and whose email address have `yahoo` or `gmail'\n",
    "---"
   ]
  },
  {
   "cell_type": "code",
   "execution_count": null,
   "metadata": {
    "collapsed": true
   },
   "outputs": [],
   "source": [
    "SELECT\n",
    "    ROW_NUMBER () OVER (PARTITION BY Country ORDER BY FirstName) RowNum,\n",
    "    FirstName,\n",
    "    LastName,\n",
    "    country,\n",
    "    email\n",
    "FROM\n",
    "    customer\n",
    "where country is not 'Brazil' and country is not 'Canada' and Email Like '%@yahoo%' or Email Like '%@gmail%';\n",
    "\n",
    "#COMPLETE\n"
   ]
  },
  {
   "cell_type": "markdown",
   "metadata": {},
   "source": [
    "#### B. (10 points). Compute the rank for each track in each album based on the track’s length, then append all the tracks that have a lengthrank of 2 and 4 \n",
    "---"
   ]
  },
  {
   "cell_type": "code",
   "execution_count": null,
   "metadata": {
    "collapsed": true
   },
   "outputs": [],
   "source": [
    "SELECT * FROM\n",
    "    (SELECT AlbumID,\n",
    "           Name,\n",
    "           Milliseconds,\n",
    "            DENSE_RANK ()\n",
    "           OVER(PARTITION BY AlbumID\n",
    "                ORDER BY Milliseconds)\n",
    "           LengthRank\n",
    "    FROM Track)\n",
    "    WHERE LengthRank = 2 OR LengthRank = 4;\n",
    "    \n",
    "    #COMPLETE"
   ]
  },
  {
   "cell_type": "markdown",
   "metadata": {},
   "source": [
    "## BONUS (20 points)\n",
    "---\n",
    "- Using SQLITE syntax [make your own SQLITE table](https://www.sqlitetutorial.net/sqlite-create-table/) and set of data. You will need to create a table of 5 columns and 10 rows containing any information you find interesting. (5 points)\n",
    "- You should create/import your table need to [dbeaver](https://docs.roguewave.com/en/zendstudio/current/content/create_manage_database_with_dbeaver.htm). (5 points)\n",
    "- Perform 3 different calculations using your data in order to tell a story of your data set. (10 points)\n",
    "\n",
    "** FEEL FREE TO USE/EXPLORE OTHER SOURCES**"
   ]
  },
  {
   "cell_type": "code",
   "execution_count": null,
   "metadata": {
    "collapsed": true
   },
   "outputs": [],
   "source": [
    "CREATE TABLE contacta (\n",
    "    contact_id INTEGER PRIMARY KEY,\n",
    "    first_name TEXT NOT NULL,\n",
    "    last_name TEXT NOT NULL,\n",
    "    email TEXT NOT NULL UNIQUE,\n",
    "    phone TEXT NOT NULL UNIQUE\n",
    ");\n",
    "\n",
    "INSERT INTO contacta (contact_id, first_name, last_name, email, phone)\n",
    "Values (1,'Marcelo','Barroso','mn@me.com','4152123398'), \n",
    "(2,'Felipe','Louiz','flp@me.com','415727621'), \n",
    "(3,'Paula','Baar','pbarr@gmail.com','4152222345'), \n",
    "(4,'Maria','Joana','mj@gmail.com','4159992345'),\n",
    "(5,'Mary','Jane','420@yahoo.com','4204201345'),\n",
    "(6,'Armando','Barbosa','abar@hotmail.com','4159948344'),\n",
    "(7,'Bleu','Fuil','bfuil@gmail.com','4122248345'),\n",
    "(8,'Fernando','Armando','fernandoarm@gmail.com','9084468271'),\n",
    "(9,'Matheys','Scheui','msc@gmail.com','4151128900'),\n",
    "(10,'Bao','Hang','Bhang@me.com','4152218989');\n",
    "\n",
    "#1. Output all the people who use gmail account:\n",
    "\n",
    "Select *\n",
    "from contacta\n",
    "where email like ('%gmail%')\n",
    "\n",
    "#2. Show all the people who has the phone number are of San Francisco.\n",
    "\n",
    "Select *\n",
    "from contacta\n",
    "where phone like ('415%')\n",
    "\n",
    "#3. What's the total amount of people listed in the table ?\n",
    "\n",
    "Select count(*) as 'Total people on table'\n",
    "from contacta\n",
    "\n",
    "#complete"
   ]
  }
 ],
 "metadata": {
  "kernelspec": {
   "display_name": "Python 3",
   "language": "python",
   "name": "python3"
  },
  "language_info": {
   "codemirror_mode": {
    "name": "ipython",
    "version": 3
   },
   "file_extension": ".py",
   "mimetype": "text/x-python",
   "name": "python",
   "nbconvert_exporter": "python",
   "pygments_lexer": "ipython3",
   "version": "3.7.1"
  }
 },
 "nbformat": 4,
 "nbformat_minor": 2
}
