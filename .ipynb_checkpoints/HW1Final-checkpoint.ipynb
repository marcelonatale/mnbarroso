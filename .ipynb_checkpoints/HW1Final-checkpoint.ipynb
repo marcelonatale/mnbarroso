{
 "cells": [
  {
   "cell_type": "markdown",
   "metadata": {},
   "source": [
    "<span style=\"color:red\">Grade: 34/100</span>  \n",
    "<span style=\"color:red\">Graded by: Stephen </span>"
   ]
  },
  {
   "cell_type": "code",
   "execution_count": 20,
   "metadata": {},
   "outputs": [],
   "source": [
    "import json\n",
    "import re"
   ]
  },
  {
   "cell_type": "markdown",
   "metadata": {},
   "source": [
    "<span style=\"color:red\">Warm-up missing 0/40</span>"
   ]
  },
  {
   "cell_type": "code",
   "execution_count": 21,
   "metadata": {},
   "outputs": [],
   "source": [
    "titles,dates,authors,abstracts = [],[],[],[]"
   ]
  },
  {
   "cell_type": "code",
   "execution_count": 22,
   "metadata": {},
   "outputs": [],
   "source": [
    "with open('/Users/marcelonatale/Desktop/ECON611/ECON611/database/nber.json') as f:\n",
    "    data = json.load(f)"
   ]
  },
  {
   "cell_type": "code",
   "execution_count": 23,
   "metadata": {},
   "outputs": [
    {
     "name": "stdout",
     "output_type": "stream",
     "text": [
      "<!DOCTYPE html PUBLIC \"-//W3C//DTD HTML 4.01 Transitional//EN\"  \"http://www.w3.org/TR/html4/loose.dtd\">\n",
      "<html prefix=\"og: http://ogp.me/ns#\"><head><title>Fathers' Multiple-Partner Fertility and Children's Educational Outcomes</title>\n",
      "<meta http-equiv=\"Content-Type\" content=\"text/html; charset=utf-8\"/>\n",
      "<meta name=\"citation_title\" content=\"Fathers' Multiple-Partner Fertility and Children’s Educational Outcomes\">\n",
      "<meta name=\"keyword\" content=\"Donna K. Ginther\">\n",
      "<meta name=\"keyword\" content=\"Astrid L. Grasdal\">\n",
      "<meta name=\"keyword\" content=\"Robert A. Pollak\">\n",
      "<meta name=\"citation_author\" content=\"Ginther, Donna K\">\n",
      "<meta name=\"citation_author\" content=\"Grasdal, Astrid L\">\n",
      "<meta name=\"citation_author\" content=\"Pollak, Robert A\">\n",
      "<meta name=\"DC.Date\" content=\"2019-09-05\">\n",
      "<meta name=\"citation_date\" content=\"2019-09-05\">\n",
      "<meta name=\"citation_publication_date\" content=\"2019/09/05\">\n",
      "<meta property=\"og:site_name\" content=\"NBER\">\n",
      "<meta property=\"og:URL\" content=\"https://www.nber.org/papers/w26242\">\n",
      "<meta name=\"citation_technical_report_institution\" content=\"National Bureau of Economic Research\">\n",
      "<meta name=\"citation_technical_report_number\" content=\"w26242\">\n",
      "<meta property=\"og:type\" content=\"article\">\n",
      "<meta name=\"citation_journal_title\" content=\"National Bureau of Economic Research Working Paper Series\">\n",
      "<meta name=\"citation_journal_issn\" content=\"0898-2937\">\n",
      "<meta name=\"google_sort_date\" content=\"2019-09-05\">\n",
      "<meta name=\"citation_pdf_url\" content=\"https://www.nber.org/papers/w26242.pdf\">\n",
      "<script type=\"text/javascript\">\r\n",
      "        var djConfig = {\r\n",
      "            parseOnLoad: true,\r\n",
      "            isDebug: false\r\n",
      "        };\r\n",
      "</script>\r\n",
      "<script type=\"text/javascript\"\r\n",
      "        src=\"/2009_redesign/dojo-1.3/dojo/dojo.js\"></script>\r\n",
      "<link rel=\"stylesheet\" href=\"/2009_redesign/dojo-1.3/dijit/themes/tundra/tundra.css\">\r\n",
      "<link rel=\"stylesheet\" href=\"/2009_redesign/2009.css\" type=\"text/css\">\r\n",
      "<link rel=\"image_src\" href=\"/img_2009/NBER_logo_2014.jpg\" / ><!--formatted-->\r\n",
      "<script language=\"JavaS\n"
     ]
    }
   ],
   "source": [
    "print(data[0][0:2000])"
   ]
  },
  {
   "cell_type": "code",
   "execution_count": 24,
   "metadata": {},
   "outputs": [
    {
     "name": "stdout",
     "output_type": "stream",
     "text": [
      "[\"Fathers' Multiple-Partner Fertility and Children's Educational Outcomes\"]\n"
     ]
    }
   ],
   "source": [
    "match = re.search('<title>(.*?)</title>', str(data))\n",
    "title = match.group(1)\n",
    "title = title.replace(\"\\\\\",\"\")\n",
    "titles.append(title)\n",
    "print(titles)"
   ]
  },
  {
   "cell_type": "markdown",
   "metadata": {},
   "source": [
    "<span style=\"color:red\">```data``` is a list. You can't turn it to a string. You need to iterate through the list and find the titles for all the lists: 8/15</span>"
   ]
  },
  {
   "cell_type": "code",
   "execution_count": 25,
   "metadata": {},
   "outputs": [
    {
     "name": "stdout",
     "output_type": "stream",
     "text": [
      "['2019-09-05']\n"
     ]
    }
   ],
   "source": [
    "match = re.search('name=\"citation_date\" content=\"(.*?)\">', str(data))\n",
    "date = match.group(1)\n",
    "dates.append(date)\n",
    "print(dates)\n",
    "\n",
    "\n",
    "\n",
    "#match = re.findall('<meta content(.*?)name=\"citation_date\"/>', str(data))\n",
    "#print(match)\n",
    "#date = match.group(1)\n",
    "#print(date)\n",
    "#date = date.replace(\"\\\\\",\"\")\n",
    "#dates.insert(len(dates)+1,str(date))\n",
    "#print(dates)"
   ]
  },
  {
   "cell_type": "markdown",
   "metadata": {},
   "source": [
    "<span style=\"color:red\">same as above 8/15</span>"
   ]
  },
  {
   "cell_type": "code",
   "execution_count": 26,
   "metadata": {},
   "outputs": [
    {
     "name": "stdout",
     "output_type": "stream",
     "text": [
      "[['Ginther, Donna K', 'Grasdal, Astrid L', 'Pollak, Robert A', 'Goodman-Bacon, Andrew', 'Cunningham, Jamein P', 'Lindo, Jason M', 'Pineda-Torres, Mayra', 'Price, Joseph', 'Buckles, Kasey', 'Van Leeuwen, Jacob', 'Riley, Isaac', 'Rosenzweig, Mark', 'Zhang, Junsen', 'Andrew, Alison', 'Attanasio, Orazio', 'Bernal, Raquel', 'Sosa, Lina Cardona', 'Krutikova, Sonya', 'Rubio-Codina, Marta', 'Edmonds, Eric V', 'Theoharides, Caroline B', 'Wang, Shing-Yi', 'Miller, Douglas L', 'Shenhav, Na’ama', 'Grosz, Michel Z', 'Bergman, Peter', 'Chetty, Raj', 'DeLuca, Stefanie', 'Hendren, Nathaniel', 'Katz, Lawrence F', 'Palmer, Christopher', 'Hendren, Nathaniel', 'Sprung-Keyser, Ben', 'Alexander, Diane', 'Schnell, Molly', 'Rosenzweig, Mark R', 'Zhang, Junsen', 'Acton, Riley K', 'Imberman, Scott A', 'Lovenheim, Michael F', 'Oreopoulos, Philip', 'Petronijevic, Uros', 'Thompson, Owen', 'Frakes, Michael D', 'Gruber, Jonathan', 'Jena, Anupam', 'Agostinelli, Francesco', 'Saharkhiz, Morteza', 'Wiswall, Matthew J', 'Halliday, Timothy J', 'Akee, Randall Q', 'Sentell, Tetine', 'Inada, Megan', 'Miyamura, Jill', 'Hjalmarsson, Randi', 'Mitrut, Andreea', 'Pop-Eleches, Cristian', 'De Hoyos, Rafael', 'Attanasio, Orazio', 'Meghir, Costas', 'Lavy, Victor', 'Megalokonomou, Rigissa', 'Kazianga, Harounan', 'Linden, Leigh L', 'Protik, Ali', 'Sloan, Matthew', 'Thompson, Owen', 'Card, David', 'Fenizia, Alessandra', 'Silver, David', 'Korenman, Sanders', 'Remler, Dahlia K', 'Hyson, Rosemary T', 'Gunnsteinsson, Snaebjorn', 'Adhvaryu, Achyuta', 'Christian, Parul', 'Labrique, Alain', 'Sugimoto, Jonathan', 'Shamim, Abu Ahmed', 'West, Keith P, Jr', 'Card, David', 'DellaVigna, Stefano', 'Funk, Patricia', 'Iriberri, Nagore', 'Cortes, Kalena E', 'Fricke, Hans D.U.', 'Loeb, Susanna', 'Song, David S', 'York, Benjamin N', 'Adhvaryu, Achyuta', 'Bharadwaj, Prashant', 'Fenske, James', 'Nyshadham, Anant', 'Stanley, Richard', 'Gruber, Jonathan', 'Sommers, Benjamin D', 'Meyer, Bruce D', 'Wu, Derek', 'Mooers, Victoria R', 'Medalia, Carla', 'de Chaisemartin, Clément', \"D\\\\'Haultfoeuille, Xavier\", 'Mbiti, Isaac', 'Romero, Mauricio', 'Schipper, Youdi', 'Persson, Petra', 'Rossin-Slater, Maya', 'Barcellos, Silvia H', 'Carvalho, Leandro S', 'Turley, Patrick', 'Lefgren, Lars J', 'Pope, Jaren C', 'Sims, David P', 'Heckman, James J', 'Karapakula, Ganesh', 'Heckman, James J', 'Karapakula, Ganesh', 'Richwine, Chelsea J', 'Dor, Avi', 'Moghtaderi, Ali', 'Elder, Todd E', 'Figlio, David N', 'Imberman, Scott A', 'Persico, Claudia L', 'Elder, Todd', 'Figlio, David N', 'Imberman, Scott A', 'Persico, Claudia', 'Britton, Jack W', 'Gruber, Jonathan', 'Dragan, Kacie', 'Ellen, Ingrid', 'Glied, Sherry A', 'Cohodes, Sarah', 'Setren, Elizabeth', 'Walters, Christopher R', 'Pac, Jessica E', 'Bartel, Ann P', 'Ruhm, Christopher J', 'Waldfogel, Jane', 'Cools, Angela', 'Fernández, Raquel', 'Patacchini, Eleonora', 'Chyn, Eric', 'Gold, Samantha', 'Hastings, Justine S', 'Beach, Brian', 'Hanlon, W. Walker', 'Meyer, Bruce D', 'Mittag, Nikolas', 'Meyer, Bruce D', 'Mittag, Nikolas', 'Connolly, Marie', 'Corak, Miles', 'Haeck, Catherine', 'Billings, Stephen B', 'Hoekstra, Mark', 'Andreoni, James', 'Girolamo, Amalia Di', 'List, John A', 'Mackevicius, Claire', 'Samek, Anya', 'Beg, Sabrin A', 'Lucas, Adrienne M', 'Halim, Waqas', 'Saif, Umar', 'Ager, Philipp', 'Boustan, Leah Platt', 'Eriksson, Katherine', 'Anderson, D. Mark', 'Rees, Daniel I', 'Wang, Tianyi', 'Kowalski, Amanda E', 'Kelly, Andrea M', 'Lindo, Jason M', 'Packham, Analisa', 'Hanushek, Eric A', 'Peterson, Paul E', 'Talpey, Laura M', 'Woessmann, Ludger', 'Austin, Wes', 'Heutel, Garth', 'Kreisman, Daniel', 'Lavecchia, Adam M', 'Oreopoulos, Philip', 'Brown, Robert S', 'Chetty, Raj', 'Friedman, John N', 'Chen, Yiqun', 'Persson, Petra', 'Polyakova, Maria', 'Boeri, Tito', 'Ichino, Andrea', 'Moretti, Enrico', 'Posch, Johanna', 'Shah, Manisha', 'Steinberg, Bryce Millett', 'Cesur, Resul', 'Gunes, Pinar Mine', 'Tekin, Erdal', 'Ulker, Aydogan', 'Papageorge, Nicholas W', 'Ronda, Victor', 'Zheng, Yu', 'Biasi, Barbara', 'Blanchflower, David G', 'Clark, Andrew E', 'Del Boca, Daniela', 'Flinn, Christopher J', 'Verriest, Ewout', 'Wiswall, Matthew J', 'Fowlie, Meredith', 'Rubin, Edward A', 'Walker, Reed', 'Kleinberg, Jon', 'Ludwig, Jens', 'Mullainathan, Sendhil', 'Sunstein, Cass R', 'Hoynes, Hilary W', 'Rothstein, Jesse', 'Dossi, Gaia', 'Figlio, David N', 'Giuliano, Paola', 'Sapienza, Paola', 'Doepke, Matthias', 'Sorrenti, Giuseppe', 'Zilibotti, Fabrizio', 'Dave, Dhaval M', 'Corman, Hope', 'Kalil, Ariel', 'Schwartz-Soicher, Ofira', 'Reichman, Nancy', 'Kleven, Henrik', 'Landais, Camille', 'Posch, Johanna', 'Steinhauer, Andreas', 'Zweimüller, Josef', 'Buckles, Kasey', 'Guldi, Melanie E', 'Schmidt, Lucie', 'Attanasio, Orazio', 'Boneva, Teodora', 'Rauh, Christopher', 'Mohanan, Manoj', 'Donato, Katherine', 'Miller, Grant', 'Truskinovsky, Yulya', 'Vera-Hernández, Marcos', 'Gould, Eric', 'Simhon, Avi', 'Weinberg, Bruce A', 'Heissel, Jennifer', 'Persico, Claudia', 'Simon, David', 'Laurito, Agustina', 'Schwartz, Amy Ellen', 'Costa, Dora', 'Yetter, Noelle', 'DeSomer, Heather', 'Figlio, David N', 'Özek, Umut', 'Michalopoulos, Stelios', 'Xue, Melanie Meng', 'Bald, Anthony', 'Chyn, Eric', 'Hastings, Justine S', 'Machelett, Margarita', 'Cook, C. Justin', 'Fletcher, Jason M', 'Forgues, Angela', 'Jackson, C. Kirabo', 'Bouguen, Adrien', 'Huang, Yue', 'Kremer, Michael', 'Miguel, Edward', 'Dynarski, Susan', 'Libassi, C.J.', 'Michelmore, Katherine', 'Owen, Stephanie', 'Beuermann, Diether', 'Jackson, C. Kirabo', 'Navarro-Sola, Laia', 'Pardo, Francisco', 'Gordon, James', 'Herbst, Chris M', 'Tekin, Erdal', 'Lavy, Victor', 'Kott, Assaf', 'Rachkovski, Genia', 'Dhar, Diva', 'Jain, Tarun', 'Jayachandran, Seema', 'Fletcher, Jason', 'Han, Joel', 'Ruhm, Christopher J', 'Iizuka, Toshiaki', 'Shigeoka, Hitoshi', 'Heissel, Jennifer A', 'Adam, Emma K', 'Doleac, Jennifer L', 'Figlio, David N', 'Meer, Jonathan', 'Luca, Dara Lee', 'Bloom, David E', 'Akresh, Richard', 'Halim, Daniel', 'Kleemans, Marieke', 'Cox, James C', 'Kreisman, Daniel', 'Dynarski, Susan', 'Papageorge, Nicholas W', 'Gershenson, Seth', 'Kang, Kyung Min', 'Gershenson, Seth', 'Hart, Cassandra M. D', 'Hyman, Joshua', 'Lindsay, Constance', 'Papageorge, Nicholas W', 'Anderson, D. Mark', 'Sabia, Joseph J', 'Tekin, Erdal', 'Baggio, Michele', 'Chong, Alberto', 'Simon, David', 'Agrawal, Mohit', 'Altonji, Joseph G', 'Mansfield, Richard K', 'Aizer, Anna', 'Devereux, Paul J', 'Salvanes, Kjell G', 'Chetty, Raj', 'Friedman, John N', 'Hendren, Nathaniel', 'Jones, Maggie R', 'Porter, Sonya R', 'Hotz, V. Joseph', 'Wiemers, Emily E', 'Rasmussen, Joshua', 'Koegel, Kate Maxwell', 'Meyer, Bruce D', 'Mittag, Nikolas', 'Goerge, Robert M', 'Dee, Thomas', 'Murphy, Mark', 'Lefgren, Lars J', 'Stoddard, Olga B', 'Stovall, John E', 'Attanasio, Orazio', 'Baker-Henningham, Helen', 'Bernal, Raquel', 'Meghir, Costas', 'Pineda, Diana', 'Rubio-Codina, Marta', 'Oreopoulos, Philip', 'Patterson, Richard W', 'Petronijevic, Uros', 'Pope, Nolan G', 'Anderson, D. Mark', 'Charles, Kerwin Kofi', 'Rees, Daniel I', 'Goodman-Bacon, Andrew', 'Oreopoulos, Philip', 'Petronijevic, Uros', 'Logel, Christine', 'Beattie, Graham', 'Gordon, Nora E', 'Ruffini, Krista J', 'Lucas, Adrienne M', 'Wilson, Nicholas L', 'Murphy, Richard', 'Weinhardt, Felix', 'Currie, Janet M', 'MacLeod, W. Bentley', 'Goodman, Joshua', 'Gurantz, Oded', 'Smith, Jonathan', 'Kose, Esra', 'Kuka, Elira', \"Shenhav, Na\\\\'ama\", 'Lavy, Victor', 'Sand, Edith', 'Shayo, Moses', 'Beuermann, Diether W', 'Jackson, C. Kirabo', 'Guldi, Melanie', 'Hawkins, Amelia', 'Hemmeter, Jeffrey', 'Schmidt, Lucie', 'Gilligan, Daniel O', 'Karachiwalla, Naureen', 'Kasirye, Ibrahim', 'Lucas, Adrienne M', 'Neal, Derek', 'Corman, Hope', 'Dave, Dhaval M', 'Reichman, Nancy', 'Lucas, Adrienne', 'Wilson, Nicholas', 'Mbiti, Isaac', 'Muralidharan, Karthik', 'Romero, Mauricio', 'Schipper, Youdi', 'Manda, Constantine', 'Rajani, Rakesh', 'Cascio, Elizabeth U', 'Lewis, Ethan G', 'Geruso, Michael', 'Spears, Dean', 'Kahn-Lang, Ariella', 'Lang, Kevin', 'Adhvaryu, Achyuta', 'Nyshadham, Anant', 'Molina, Teresa', 'Tamayo, Jorge', 'Adhvaryu, Achyuta', 'Bednar, Steven', 'Nyshadham, Anant', 'Molina, Teresa', 'Nguyen, Quynh', 'Bergbauer, Annika B', 'Hanushek, Eric A', 'Woessmann, Ludger', 'Bolbocean, Corneliu', 'Tylavsky, Frances A', 'West, James E', 'Cortes, Kalena E', 'Fricke, Hans', 'Loeb, Susanna', 'Song, David S', 'Zivin, Joshua S. Graff', 'Song, Yingquan', 'Tang, Qu', 'Zhang, Peng', 'Evans, William N', 'Garthwaite, Craig', 'Moore, Timothy J', 'Biasi, Barbara', 'Currie, Janet', 'Mueller-Smith, Michael', 'Rossin-Slater, Maya', 'Akee, Randall', 'Copeland, William', 'Costello, E. Jane', 'Holbein, John B', 'Simeonova, Emilia', 'Bronchetti, Erin T', 'Christensen, Garret S', 'Hoynes, Hilary W', 'Gensowski, Miriam', 'Nielsen, Torben Heien', 'Nielsen, Nete Munk', 'Rossin-Slater, Maya', 'Wüst, Miriam', 'Macartney, Hugh', 'McMillan, Robert', 'Petronijevic, Uros', 'Kuziemko, Ilyana', 'Pan, Jessica', 'Shen, Jenny', 'Washington, Ebonya', 'Alsan, Marcella', 'Yang, Crystal', 'Beach, Brian', 'Ferrie, Joseph P', 'Saavedra, Martin H', 'Chorniy, Anna V', 'Currie, Janet', 'Sonchak, Lyudmyla', 'Cahyadi, Nur', 'Hanna, Rema', 'Olken, Benjamin A', 'Prima, Rizal Adi', 'Satriawan, Elan', 'Syamsulhakim, Ekki', 'Carpenter, Christopher S', 'Warman, Casey', 'Currie, Janet', 'Schwandt, Hannes', 'Thuilliez, Josselin', 'Dizon-Ross, Rebecca', 'Clay, Karen', 'Portnykh, Margarita', 'Severnini, Edson', 'Hoynes, Hilary W', 'Schanzenbach, Diane Whitmore', 'Yu, Han', 'Mocan, Naci', 'Meyer, Bruce D', 'Wu, Derek', 'Rothstein, Jesse', 'Barclay, Kieron', 'Lyngstad, Torkild', 'Conley, Dalton', 'Abramitzky, Ran', 'Lavy, Victor', 'Pérez, Santiago', 'Hamersma, Sarah', 'Maclean, Johanna Catherine', 'Card, David', 'Fenizia, Alessandra', 'Silver, David', 'Kline, Patrick M', 'Walters, Christopher R', 'Corcoran, Sean P', 'Jennings, Jennifer L', 'Cohodes, Sarah R', 'Sattin-Bajaj, Carolyn', 'Anttila-Hughes, Jesse K', 'Fernald, Lia C.H.', 'Gertler, Paul J', 'Krause, Patrick', 'Wydick, Bruce', 'Doss, Christopher J', 'Fahle, Erin M', 'Loeb, Susanna', 'York, Benjamin N', 'Chetty, Raj', 'Hendren, Nathaniel', 'Jones, Maggie R', 'Porter, Sonya R', 'Currie, Janet', 'Jin, Jonas Y', 'Schnell, Molly', 'Bana, Sarah', 'Bedard, Kelly', 'Rossin-Slater, Maya', 'Dynarski, Susan', 'Hubbard, Daniel', 'Jacob, Brian', 'Robles, Silvia', 'Simeonova, Emilia', 'Currie, Janet', 'Nilsson, Peter', 'Walker, Reed', 'Goldsmith-Pinkham, Paul', 'Sorkin, Isaac', 'Swift, Henry', 'Buckles, Kasey', 'Hungerman, Daniel', 'Lugauer, Steven', 'Slusky, David', 'Zeckhauser, Richard J', 'Kuka, Elira', \"Shenhav, Na\\\\'ama\", 'Shih, Kevin', 'Parker, Susan W', 'Vogl, Tom', 'Carter, Susan Payne', 'Wozniak, Abigail', 'Dahl, Gordon B', 'Gielen, Anne C', 'Bhuller, Manudeep', 'Dahl, Gordon B', 'Løken, Katrine V', 'Mogstad, Magne', 'Galama, Titus J', 'Lleras-Muney, Adriana', 'van Kippersluis, Hans', 'Kleven, Henrik', 'Landais, Camille', 'Søgaard, Jakob Egholt', 'Jackson, C. Kirabo', 'Wigger, Cora', 'Xiong, Heyu', 'Gilraine, Michael', 'Macartney, Hugh', 'McMillan, Robert']]\n"
     ]
    }
   ],
   "source": [
    "match = re.findall(r'name=\"citation_author\" content=\"(.*?)\">', str(data))\n",
    "authors.append(match)\n",
    "print(authors)"
   ]
  },
  {
   "cell_type": "markdown",
   "metadata": {},
   "source": [
    "<span style=\"color:red\">This is closer, but you need to group the authors by paper: 10/15\n",
    "</span>"
   ]
  },
  {
   "cell_type": "code",
   "execution_count": 27,
   "metadata": {},
   "outputs": [
    {
     "name": "stdout",
     "output_type": "stream",
     "text": [
      "[\"nWe find substantial and statistically significant detrimental effects of fathers' multiple-partner fertility (MPF) on children's educational outcomes. We focus on children in fathers’ “second families” when the second families are nuclear families – households consisting of a man, a woman, their joint children, and no other children.  We analyze outcomes for almost 75,000 Norwegian children, all of whom, until they were at least age 18, lived in nuclear families. Controlling for a rich set of socio-economic variables, we find that children who spent their entire childhoods in nuclear families but whose fathers had children from a previous relationship living elsewhere were 4 percentage points more likely to drop out of secondary school and 5 percentage points less likely to obtain a bachelor's degree than children in nuclear families without fathers’ MPF. Resource competition due to economic and caregiving responsibilities for children living elsewhere does not explain the differences in educational outcomes. We do find that children in nuclear families whose fathers had previous childless marriages have educational outcomes that are similar to those of fathers with MPF. Our analysis suggests that the effects of fathers' MPF are primarily due to selection.n\"]\n"
     ]
    }
   ],
   "source": [
    "match = re.search('<p style=\"margin-left: 40px; margin-right: 40px; text-align: justify\">(.*?)</p>', str(data))\n",
    "abstract = match.group(1)\n",
    "abstract = abstract.replace(\"\\\\\",\"\")\n",
    "abstracts.append(abstract)\n",
    "print(abstracts)"
   ]
  },
  {
   "cell_type": "markdown",
   "metadata": {},
   "source": [
    "<span style=\"color:red\">Same as a and b : 8/15</span>"
   ]
  },
  {
   "cell_type": "code",
   "execution_count": null,
   "metadata": {},
   "outputs": [],
   "source": []
  }
 ],
 "metadata": {
  "kernelspec": {
   "display_name": "Python 3",
   "language": "python",
   "name": "python3"
  },
  "language_info": {
   "codemirror_mode": {
    "name": "ipython",
    "version": 3
   },
   "file_extension": ".py",
   "mimetype": "text/x-python",
   "name": "python",
   "nbconvert_exporter": "python",
   "pygments_lexer": "ipython3",
   "version": "3.7.4"
  }
 },
 "nbformat": 4,
 "nbformat_minor": 2
}
